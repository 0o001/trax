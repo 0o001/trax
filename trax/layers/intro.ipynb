{
  "cells": [
    {
      "cell_type": "markdown",
      "metadata": {
        "colab_type": "text",
        "id": "7yuytuIllsv1"
      },
      "source": [
        "# A Conceptual, Practical Introduction to Trax Layers\n",
        "\n",
        "This notebook introduces the core concepts of the Trax library through a series of code samples and explanations. The topics covered in following sections are:\n",
        "\n",
        "  1. **Layers**: the basic building blocks and how to combine them into networks\n",
        "  1. **Data Streams**: how individual layers manage inputs and outputs\n",
        "  1. **Data Stack**: how the Trax runtime manages data streams for the layers\n",
        "  1. **Defining New Layer Classes**: how to define and test your own layer classes\n",
        "  1. **Models**: how to train, evaluate, and run predictions with Trax models\n",
        "\n",
        "\n"
      ]
    },
    {
      "cell_type": "markdown",
      "metadata": {
        "colab_type": "text",
        "id": "BIl27504La0G"
      },
      "source": [
        "## General Setup\n",
        "Execute the following few cells (once) before running any of the code samples in this notebook."
      ]
    },
    {
      "cell_type": "code",
      "execution_count": 1,
      "metadata": {
        "colab": {},
        "colab_type": "code",
        "id": "oILRLCWN_16u"
      },
      "outputs": [],
      "source": [
        "# Copyright 2018 Google LLC.\n",
        "\n",
        "# Licensed under the Apache License, Version 2.0 (the \"License\");\n",
        "# you may not use this file except in compliance with the License.\n",
        "# You may obtain a copy of the License at\n",
        "\n",
        "# https://www.apache.org/licenses/LICENSE-2.0\n",
        "\n",
        "# Unless required by applicable law or agreed to in writing, software\n",
        "# distributed under the License is distributed on an \"AS IS\" BASIS,\n",
        "# WITHOUT WARRANTIES OR CONDITIONS OF ANY KIND, either express or implied.\n",
        "# See the License for the specific language governing permissions and\n",
        "# limitations under the License.\n",
        "\n",
        "import numpy as np\n",
        "\n",
        "\n"
      ]
    },
    {
      "cell_type": "code",
      "execution_count": 2,
      "metadata": {
        "cellView": "both",
        "colab": {
          "height": 51
        },
        "colab_type": "code",
        "executionInfo": {
          "elapsed": 494,
          "status": "ok",
          "timestamp": 1587753245615,
          "user": {
            "displayName": "",
            "photoUrl": "",
            "userId": ""
          },
          "user_tz": 420
        },
        "id": "vlGjGoGMTt-D",
        "outputId": "9bbd7331-fe38-4cd3-e67d-b853c6eb1b94"
      },
      "outputs": [
        {
          "name": "stdout",
          "output_type": "stream",
          "text": [
            "/bin/sh: pip: command not found\n",
            "/bin/sh: pip: command not found\n"
          ]
        }
      ],
      "source": [
        "# Import Trax\n",
        "\n",
        "! pip install -q -U trax\n",
        "! pip install -q tensorflow\n",
        "\n",
        "from trax import math\n",
        "from trax import layers as tl\n",
        "from trax import shapes\n",
        "from trax.math import numpy as jnp  # For use in defining new layer types.\n",
        "from trax.shapes import ShapeDtype\n",
        "from trax.shapes import signature"
      ]
    },
    {
      "cell_type": "code",
      "execution_count": 0,
      "metadata": {
        "colab": {},
        "colab_type": "code",
        "id": "bYWNWL9MJHv9"
      },
      "outputs": [],
      "source": [
        "# Settings and utilities for handling inputs, outputs, and object properties.\n",
        "\n",
        "np.set_printoptions(precision=3)  # Reduce visual noise from extra digits.\n",
        "\n",
        "def show_layer_properties(layer_obj, layer_name):\n",
        "  template = ('{}.n_in:  {}\\n'\n",
        "              '{}.n_out: {}\\n'\n",
        "              '{}.sublayers: {}\\n'\n",
        "              '{}.weights:    {}\\n')\n",
        "  print(template.format(layer_name, layer_obj.n_in,\n",
        "                        layer_name, layer_obj.n_out,\n",
        "                        layer_name, layer_obj.sublayers,\n",
        "                        layer_name, layer_obj.weights))\n",
        "\n",
        "def floats_in_range(start, end):\n",
        "  return np.arange(start, end).astype(np.float32)"
      ]
    },
    {
      "cell_type": "markdown",
      "metadata": {
        "colab_type": "text",
        "id": "-LQ89rFFsEdk"
      },
      "source": [
        "# 1. Layers\n",
        "\n",
        "The Layer class represents Trax's basic building blocks:\n",
        "```\n",
        "class Layer(object):\n",
        "  \"\"\"Base class for composable layers in a deep learning network.\n",
        "\n",
        "  Layers are the basic building blocks for deep learning models. A Trax layer\n",
        "  computes a function from zero or more inputs to zero or more outputs,\n",
        "  optionally using trainable weights (common) and non-parameter state (not\n",
        "  common). Authors of new layer subclasses typically override at most two\n",
        "  methods of the base `Layer` class:\n",
        "\n",
        "    forward(inputs, weights):\n",
        "      Computes this layer's output as part of a forward pass through the model.\n",
        "\n",
        "    new_weights(self, input_signature):\n",
        "      Returns new weights suitable for inputs with the given signature.\n",
        "\n",
        "  ...\n",
        "```"
      ]
    },
    {
      "cell_type": "markdown",
      "metadata": {
        "colab_type": "text",
        "id": "LyLVtdxorDPO"
      },
      "source": [
        "## Layers compute functions."
      ]
    },
    {
      "cell_type": "markdown",
      "metadata": {
        "colab_type": "text",
        "id": "ntZ4_eNQldzL"
      },
      "source": [
        "A layer computes a function from zero or more inputs to zero or more outputs.\n",
        "The inputs and outputs are NumPy arrays or JAX objects behaving as NumPy arrays.\n",
        "\n",
        "The simplest layers, those with no weights or sublayers, can be used without\n",
        "initialization. You can think of them as (pure) mathematical functions that can\n",
        "be plugged into neural networks.\n",
        "\n",
        "For ease of testing and interactive exploration, layer objects implement the\n",
        "`__call__ ` method, so you can call them directly on input data:\n",
        "```\n",
        "y = my_layer(x)\n",
        "```\n",
        "\n",
        "Layers are also objects, so you can inspect their properties. For example:\n",
        "```\n",
        "print(f'Number of inputs expected by this layer: {my_layer.n_in}')\n",
        "```"
      ]
    },
    {
      "cell_type": "markdown",
      "metadata": {
        "colab_type": "text",
        "id": "hCoapc5le8B7"
      },
      "source": [
        "### Example 1. tl.Relu $[n_{in} = 1, n_{out} = 1]$"
      ]
    },
    {
      "cell_type": "code",
      "execution_count": 4,
      "metadata": {
        "colab": {
          "height": 187
        },
        "colab_type": "code",
        "executionInfo": {
          "elapsed": 762,
          "status": "ok",
          "timestamp": 1587753246851,
          "user": {
            "displayName": "",
            "photoUrl": "",
            "userId": ""
          },
          "user_tz": 420
        },
        "id": "V09viOSEQvQe",
        "outputId": "a9c1a709-3167-48e1-908a-94c7f7781b86"
      },
      "outputs": [
        {
          "name": "stdout",
          "output_type": "stream",
          "text": [
            "x:\n",
            "[[ -2  -1   0   1   2]\n",
            " [-20 -10   0  10  20]]\n",
            "\n",
            "relu(x):\n",
            "[[ 0  0  0  1  2]\n",
            " [ 0  0  0 10 20]]\n",
            "\n",
            "Number of inputs expected by this layer: 1\n",
            "Number of outputs promised by this layer: 1\n"
          ]
        }
      ],
      "source": [
        "relu = tl.Relu()\n",
        "\n",
        "x = np.array([[-2, -1, 0, 1, 2],\n",
        "              [-20, -10, 0, 10, 20]])\n",
        "y = relu(x)\n",
        "\n",
        "# Show input, output, and two layer properties.\n",
        "print(f'x:\\n{x}\\n\\n'\n",
        "      f'relu(x):\\n{y}\\n\\n'\n",
        "      f'Number of inputs expected by this layer: {relu.n_in}\\n'\n",
        "      f'Number of outputs promised by this layer: {relu.n_out}')"
      ]
    },
    {
      "cell_type": "markdown",
      "metadata": {
        "colab_type": "text",
        "id": "7sYxIT8crFVE"
      },
      "source": [
        "### Example 2. tl.Concatenate $[n_{in} = 2, n_{out} = 1]$"
      ]
    },
    {
      "cell_type": "code",
      "execution_count": 5,
      "metadata": {
        "colab": {
          "height": 255
        },
        "colab_type": "code",
        "executionInfo": {
          "elapsed": 489,
          "status": "ok",
          "timestamp": 1587753247359,
          "user": {
            "displayName": "",
            "photoUrl": "",
            "userId": ""
          },
          "user_tz": 420
        },
        "id": "LMPPNWXLoOZI",
        "outputId": "5e7b4459-b4ca-4478-e4f6-0fd418c1b554"
      },
      "outputs": [
        {
          "name": "stdout",
          "output_type": "stream",
          "text": [
            "x0:\n",
            "[[1 2 3]\n",
            " [4 5 6]]\n",
            "\n",
            "x1:\n",
            "[[10 20 30]\n",
            " [40 50 60]]\n",
            "\n",
            "concat([x1, x2]):\n",
            "[[ 1  2  3 10 20 30]\n",
            " [ 4  5  6 40 50 60]]\n",
            "\n",
            "Number of inputs expected by this layer: 2\n",
            "Number of outputs promised by this layer: 1\n"
          ]
        }
      ],
      "source": [
        "concat = tl.Concatenate()\n",
        "\n",
        "x0 = np.array([[1, 2, 3],\n",
        "               [4, 5, 6]])\n",
        "x1 = np.array([[10, 20, 30],\n",
        "               [40, 50, 60]])\n",
        "y = concat([x0, x1])\n",
        "\n",
        "print(f'x0:\\n{x0}\\n\\n'\n",
        "      f'x1:\\n{x1}\\n\\n'\n",
        "      f'concat([x1, x2]):\\n{y}\\n\\n'\n",
        "      f'Number of inputs expected by this layer: {concat.n_in}\\n'\n",
        "      f'Number of outputs promised by this layer: {concat.n_out}')"
      ]
    },
    {
      "cell_type": "markdown",
      "metadata": {
        "colab_type": "text",
        "id": "z7N1qe91eYyM"
      },
      "source": [
        "## Layers are configurable.\n",
        "\n",
        "Many layer types have creation-time parameters for flexibility. The \n",
        "`Concatenate` layer type, for instance, has two optional parameters:\n",
        "*   `axis`: index of axis along which to concatenate the tensors; default value of -1 means to use the last axis.\n",
        "*   `n_items`: number of tensors to join into one by concatenation; default value is 2.\n",
        "\n",
        "The following example shows `Concatenate` configured for **3** input tensors,\n",
        "and concatenation along the initial $(0^{th})$ axis."
      ]
    },
    {
      "cell_type": "markdown",
      "metadata": {
        "colab_type": "text",
        "id": "l53Jw23pZ4s6"
      },
      "source": [
        "### Example 3. tl.Concatenate(n_items=3, axis=0)"
      ]
    },
    {
      "cell_type": "code",
      "execution_count": 6,
      "metadata": {
        "colab": {
          "height": 272
        },
        "colab_type": "code",
        "executionInfo": {
          "elapsed": 494,
          "status": "ok",
          "timestamp": 1587753247870,
          "user": {
            "displayName": "",
            "photoUrl": "",
            "userId": ""
          },
          "user_tz": 420
        },
        "id": "bhhWlVLffZtf",
        "outputId": "32cd037a-a2c6-4b84-8eac-a3bd5fc906f0"
      },
      "outputs": [
        {
          "name": "stdout",
          "output_type": "stream",
          "text": [
            "x0:\n",
            "[[1 2 3]\n",
            " [4 5 6]]\n",
            "\n",
            "x1:\n",
            "[[10 20 30]\n",
            " [40 50 60]]\n",
            "\n",
            "concat3([x0, x1, x2]):\n",
            "[[  1   2   3]\n",
            " [  4   5   6]\n",
            " [ 10  20  30]\n",
            " [ 40  50  60]\n",
            " [100 200 300]\n",
            " [400 500 600]]\n"
          ]
        }
      ],
      "source": [
        "concat3 = tl.Concatenate(n_items=3, axis=0)\n",
        "\n",
        "x0 = np.array([[1, 2, 3],\n",
        "               [4, 5, 6]])\n",
        "x1 = np.array([[10, 20, 30],\n",
        "               [40, 50, 60]])\n",
        "x2 = np.array([[100, 200, 300],\n",
        "               [400, 500, 600]])\n",
        "\n",
        "y = concat3([x0, x1, x2])\n",
        "\n",
        "print(f'x0:\\n{x0}\\n\\n'\n",
        "      f'x1:\\n{x1}\\n\\n'\n",
        "      f'concat3([x0, x1, x2]):\\n{y}')"
      ]
    },
    {
      "cell_type": "markdown",
      "metadata": {
        "colab_type": "text",
        "id": "1oZv3R8bRMvF"
      },
      "source": [
        "## Layers are trainable.\n",
        "\n",
        "Many layer types include weights that affect the computation of outputs from inputs, and they use back-progagated gradients to update those weights.\n",
        "\n",
        "🚧🚧 *A very small subset of layer types, such as `BatchNorm`, also include weights (called `state`) that are updated based on forward-pass inputs/computation rather than back-propagated gradients.*"
      ]
    },
    {
      "cell_type": "markdown",
      "metadata": {
        "colab_type": "text",
        "id": "3d64M7wLryji"
      },
      "source": [
        "### Initialization\n",
        "\n",
        "Trainable layers must be initialized before use. Trax can take care of this\n",
        "as part of the overall training process. In other settings (e.g., in tests or interactively in a Colab notebook), you need to initialize the *outermost/topmost* layer explicitly. For this, use `init`:\n",
        "\n",
        "```\n",
        "  def init(self, input_signature, rng=None):\n",
        "    \"\"\"Initializes this layer and its sublayers recursively.\n",
        "\n",
        "    This method is designed to initialize each layer instance once, even if the\n",
        "    same layer instance occurs in multiple places in the network. This enables\n",
        "    weight sharing to be implemented as layer sharing.\n",
        "\n",
        "    Args:\n",
        "      input_signature: A `ShapeDtype` instance (if this layer takes one input)\n",
        "          or a list/tuple of `ShapeDtype` instances.\n",
        "      rng: A single-use random number generator (JAX PRNG key). If none is\n",
        "          provided, a default rng based on the integer seed 0 will be used.\n",
        "\n",
        "    Returns:\n",
        "      A (weights, state) tuple, in which weights contains newly created weights\n",
        "          on the first call and `EMPTY_WEIGHTS` on all subsequent calls.\n",
        "    \"\"\"\n",
        "```\n",
        "\n",
        "Input signatures can be built from scratch using `ShapeDType` objects, or can\n",
        "be derived from data via the `signature` function (in module `shapes`):\n",
        "```\n",
        "def signature(obj):\n",
        "  \"\"\"Returns a `ShapeDtype` signature for the given `obj`.\n",
        "\n",
        "  A signature is either a `ShapeDtype` instance or a tuple of `ShapeDtype`\n",
        "  instances. Note that this function is permissive with respect to its inputs\n",
        "  (accepts lists or tuples, and underlying objects can be any type as long as\n",
        "  they have shape and dtype attributes), but strict with respect to its outputs\n",
        "  (only `ShapeDtype`, and only tuples).\n",
        "\n",
        "  Args:\n",
        "    obj: An object that has `shape` and `dtype` attributes, or a list/tuple\n",
        "        of such objects.\n",
        "  \"\"\"\n",
        "```"
      ]
    },
    {
      "cell_type": "markdown",
      "metadata": {
        "colab_type": "text",
        "id": "yL8HAj6GEAp1"
      },
      "source": [
        "### Example 4. tl.LayerNorm $[n_{in} = 1, n_{out} = 1]$"
      ]
    },
    {
      "cell_type": "code",
      "execution_count": 7,
      "metadata": {
        "colab": {
          "height": 221
        },
        "colab_type": "code",
        "executionInfo": {
          "elapsed": 1012,
          "status": "ok",
          "timestamp": 1587753248894,
          "user": {
            "displayName": "",
            "photoUrl": "",
            "userId": ""
          },
          "user_tz": 420
        },
        "id": "Ie7iyX91qAx2",
        "outputId": "e4205acc-22ee-4dbf-870e-de227d65c181"
      },
      "outputs": [
        {
          "name": "stdout",
          "output_type": "stream",
          "text": [
            "x:\n",
            "[[-2. -1.  0.  1.  2.]\n",
            " [ 1.  2.  3.  4.  5.]\n",
            " [10. 20. 30. 40. 50.]]\n",
            "\n",
            "layer_norm(x):\n",
            "[[-1.414 -0.707  0.     0.707  1.414]\n",
            " [-1.414 -0.707  0.     0.707  1.414]\n",
            " [-1.414 -0.707  0.     0.707  1.414]]\n",
            "\n",
            "layer_norm.weights:\n",
            "(DeviceArray([1., 1., 1., 1., 1.], dtype=float32), DeviceArray([0., 0., 0., 0., 0.], dtype=float32))\n"
          ]
        }
      ],
      "source": [
        "layer_norm = tl.LayerNorm()\n",
        "\n",
        "x = np.array([[-2, -1, 0, 1, 2],\n",
        "              [1, 2, 3, 4, 5],\n",
        "              [10, 20, 30, 40, 50]]).astype(np.float32)\n",
        "layer_norm.init(signature(x))\n",
        "\n",
        "y = layer_norm(x)\n",
        "\n",
        "print(f'x:\\n{x}\\n\\n'\n",
        "      f'layer_norm(x):\\n{y}\\n')\n",
        "print(f'layer_norm.weights:\\n{layer_norm.weights}')"
      ]
    },
    {
      "cell_type": "markdown",
      "metadata": {
        "colab_type": "text",
        "id": "d47gVdGV1vWw"
      },
      "source": [
        "## Layers combine into layers.\n",
        "\n",
        "The Trax library authors encourage users to build new layers as combinations of existing layers. Hence, the library provides a small set of _combinator_ layers: layer objects that make a list of layers behave as a single layer.\n",
        "\n",
        "The new layer, like other layers, can:\n",
        "* compute outputs from inputs,\n",
        "* update parameters from gradients, and\n",
        "* combine with yet more layers."
      ]
    },
    {
      "cell_type": "markdown",
      "metadata": {
        "colab_type": "text",
        "id": "vC1ymG2j0iyp"
      },
      "source": [
        "### Combine with `Serial`\n",
        "\n",
        "The most common way to combine layers is with the `Serial` class:\n",
        "```\n",
        "class Serial(base.Layer):\n",
        "  \"\"\"Combinator that applies layers serially (by function composition).\n",
        "\n",
        "  A Serial combinator uses stack semantics to manage data for its sublayers.\n",
        "  Each sublayer sees only the inputs it needs and returns only the outputs it\n",
        "  has generated. The sublayers interact via the data stack. For instance, a\n",
        "  sublayer k, following sublayer j, gets called with the data stack in the\n",
        "  state left after layer j has applied. The Serial combinator then:\n",
        "\n",
        "    - takes n_in items off the top of the stack (n_in = k.n_in) and calls\n",
        "      layer k, passing those items as arguments; and\n",
        "\n",
        "    - takes layer k's n_out return values (n_out = k.n_out) and pushes\n",
        "      them onto the data stack.\n",
        "\n",
        "  ...\n",
        "```\n",
        "If one layer has the same number of outputs as the next layer has inputs (which is the usual case), the successive layers behave like function composition:\n",
        "\n",
        "```\n",
        "#  h(.) = g(f(.))\n",
        "layer_h = Serial(\n",
        "    layer_f,\n",
        "    layer_g,\n",
        ")\n",
        "```\n",
        "Note how, inside `Serial`, function composition is expressed naturally as a succession of operations, so that no nested parentheses are needed.\n"
      ]
    },
    {
      "cell_type": "markdown",
      "metadata": {
        "colab_type": "text",
        "id": "uPOnrDa9ViPi"
      },
      "source": [
        "### Example 5. y = layer_norm(relu(x)) $[n_{in} = 1, n_{out} = 1]$"
      ]
    },
    {
      "cell_type": "code",
      "execution_count": 8,
      "metadata": {
        "colab": {
          "height": 136
        },
        "colab_type": "code",
        "executionInfo": {
          "elapsed": 4493,
          "status": "ok",
          "timestamp": 1587753253405,
          "user": {
            "displayName": "",
            "photoUrl": "",
            "userId": ""
          },
          "user_tz": 420
        },
        "id": "dW5fpusjvjmh",
        "outputId": "ef9d26b4-44e2-41f6-dbe0-866e84a97d6d"
      },
      "outputs": [
        {
          "name": "stdout",
          "output_type": "stream",
          "text": [
            "x:\n",
            "[[ -2.  -1.   0.   1.   2.]\n",
            " [-20. -10.   0.  10.  20.]]\n",
            "\n",
            "layer_block(x):\n",
            "[[-0.75 -0.75 -0.75  0.5   1.75]\n",
            " [-0.75 -0.75 -0.75  0.5   1.75]]\n"
          ]
        }
      ],
      "source": [
        "layer_block = tl.Serial(\n",
        "    tl.Relu(),\n",
        "    tl.LayerNorm(),\n",
        ")\n",
        "\n",
        "x = np.array([[-2, -1, 0, 1, 2],\n",
        "              [-20, -10, 0, 10, 20]]).astype(np.float32)\n",
        "layer_block.init(signature(x))\n",
        "y = layer_block(x)\n",
        "\n",
        "print(f'x:\\n{x}\\n\\n'\n",
        "      f'layer_block(x):\\n{y}')"
      ]
    },
    {
      "cell_type": "markdown",
      "metadata": {
        "colab_type": "text",
        "id": "bRtmN6ckQO1q"
      },
      "source": [
        "And we can inspect the block as a whole, as if it were just another layer:\n",
        "\n",
        "### Example 5'. Inspecting a Serial layer."
      ]
    },
    {
      "cell_type": "code",
      "execution_count": 9,
      "metadata": {
        "colab": {
          "height": 68
        },
        "colab_type": "code",
        "executionInfo": {
          "elapsed": 442,
          "status": "ok",
          "timestamp": 1587753253868,
          "user": {
            "displayName": "",
            "photoUrl": "",
            "userId": ""
          },
          "user_tz": 420
        },
        "id": "D6BpYddZQ1eu",
        "outputId": "fa9fbe1e-e8f3-405a-8103-6fdbfa556db6"
      },
      "outputs": [
        {
          "name": "stdout",
          "output_type": "stream",
          "text": [
            "layer_block: Serial[ Relu LayerNorm ]\n",
            "\n",
            "layer_block.weights: [(), (DeviceArray([1., 1., 1., 1., 1.], dtype=float32), DeviceArray([0., 0., 0., 0., 0.], dtype=float32))]\n"
          ]
        }
      ],
      "source": [
        "print(f'layer_block: {layer_block}\\n\\n'\n",
        "      f'layer_block.weights: {layer_block.weights}')"
      ]
    },
    {
      "cell_type": "markdown",
      "metadata": {
        "colab_type": "text",
        "id": "kJ8bpYZtE66x"
      },
      "source": [
        "### Combine with `Branch`\n",
        "The `Branch` combinator arranges layers into parallel computational channels:\n",
        "```\n",
        "def Branch(*layers):\n",
        "  \"\"\"Combinator that applies a list of layers in parallel to copies of inputs.\n",
        "\n",
        "  Each layer in the input list is applied to as many inputs from the stack\n",
        "  as it needs, and their outputs are successively combined on stack.\n",
        "\n",
        "  For example, suppose one has three layers:\n",
        "\n",
        "    - F: 1 input, 1 output\n",
        "    - G: 3 inputs, 1 output\n",
        "    - H: 2 inputs, 2 outputs (h1, h2)\n",
        "\n",
        "  Then Branch(F, G, H) will take 3 inputs and give 4 outputs:\n",
        "\n",
        "    - inputs: a, b, c\n",
        "    - outputs: F(a), G(a, b, c), h1, h2    where h1, h2 = H(a, b)\n",
        "```"
      ]
    },
    {
      "cell_type": "markdown",
      "metadata": {
        "colab_type": "text",
        "id": "RlPcnRtdIVgq"
      },
      "source": [
        "Residual blocks, for example, are implemented using `Branch`:\n",
        "```\n",
        "def Residual(*layers, **kwargs):\n",
        "  \"\"\"Wraps a series of layers with a residual connection.\n",
        "\n",
        "  Args:\n",
        "    *layers: One or more layers, to be applied in series.\n",
        "    **kwargs: If empty (the usual case), the Residual layer computes the\n",
        "        element-wise sum of the stack-top input with the output of the layer\n",
        "        series. If non-empty, the only key should be 'shortcut', whose value is\n",
        "        a layer that applies to a copy of the inputs and (elementwise) adds its\n",
        "        output to the output from the main layer series.\n",
        "\n",
        "  Returns:\n",
        "      A layer representing a residual connection paired with a layer series.\n",
        "  \"\"\"\n",
        "  shortcut = kwargs.get('shortcut')  # default None signals no-op (copy inputs)\n",
        "  layers = _ensure_flat(layers)\n",
        "  layer = layers[0] if len(layers) == 1 else Serial(layers)\n",
        "  return Serial(\n",
        "      Branch(shortcut, layer),\n",
        "      Add(),  # pylint: disable=no-value-for-parameter\n",
        "  )\n",
        "```"
      ]
    },
    {
      "cell_type": "markdown",
      "metadata": {
        "colab_type": "text",
        "id": "ruX4aFMdUOwS"
      },
      "source": [
        "Here's a simple code example to highlight the mechanics."
      ]
    },
    {
      "cell_type": "markdown",
      "metadata": {
        "colab_type": "text",
        "id": "JGGnKjg4ESIg"
      },
      "source": [
        "### Example 6. Branch"
      ]
    },
    {
      "cell_type": "code",
      "execution_count": 10,
      "metadata": {
        "colab": {
          "height": 204
        },
        "colab_type": "code",
        "executionInfo": {
          "elapsed": 451,
          "status": "ok",
          "timestamp": 1587753254339,
          "user": {
            "displayName": "",
            "photoUrl": "",
            "userId": ""
          },
          "user_tz": 420
        },
        "id": "lw6A2YwuW-Ul",
        "outputId": "cae312ca-7091-4444-b461-1adaa45ab1ee"
      },
      "outputs": [
        {
          "name": "stdout",
          "output_type": "stream",
          "text": [
            "x:\n",
            "[[ -2  -1   0   1   2]\n",
            " [-20 -10   0  10  20]]\n",
            "\n",
            "y0:\n",
            "[[ 0  0  0  1  2]\n",
            " [ 0  0  0 10 20]]\n",
            "\n",
            "y1:\n",
            "[[ -200.  -100.     0.   100.   200.]\n",
            " [-2000. -1000.     0.  1000.  2000.]]\n"
          ]
        }
      ],
      "source": [
        "relu = tl.Relu()\n",
        "times_100 = tl.Fn(\"Times100\", lambda x: x * 100.0)\n",
        "branch_relu_t100 = tl.Branch(relu, times_100)\n",
        "\n",
        "x = np.array([[-2, -1, 0, 1, 2],\n",
        "              [-20, -10, 0, 10, 20]])\n",
        "branch_relu_t100.init(signature(x))\n",
        "\n",
        "y0, y1 = branch_relu_t100(x)\n",
        "\n",
        "print(f'x:\\n{x}\\n\\n'\n",
        "      f'y0:\\n{y0}\\n\\n'\n",
        "      f'y1:\\n{y1}')"
      ]
    },
    {
      "cell_type": "markdown",
      "metadata": {
        "colab_type": "text",
        "id": "zr2ZZ1vO8T8V"
      },
      "source": [
        "# 2. Data Streams\n",
        "\n",
        "The Trax runtime supports the concept of multiple data streams, which gives individual layers flexibility to:\n",
        "  - process a single data stream ($n_{in} = n_{out} = 1$),\n",
        "  - process multiple parallel data streams ($n_{in} = n_{out} = 2, 3, ... $),\n",
        "  - split or inject data streams ($n_{in} \u003c n_{out}$), or\n",
        "  - merge or remove data streams ($n_{in} \u003e n_{out}$).\n",
        "\n",
        "We saw in section 1 the example of `Residual`, which involves both a split and a merge:\n",
        "```\n",
        "  ...\n",
        "  return Serial(\n",
        "      Branch(shortcut, layer),\n",
        "      Add(),\n",
        "  )\n",
        "```\n",
        "In other words, layer by layer:\n",
        "  - `Branch(shortcut, layers)`: makes two copies of the single incoming data stream, passes one copy via the shortcut (typically a no-op), and processes the other copy via the given layers, applied in series. [$n_{in} = 1$, $n_{out} = 2$]\n",
        "  - `Add()`: combines the two streams back into one by adding elementwise. [$n_{in} = 2$, $n_{out} = 1$]"
      ]
    },
    {
      "cell_type": "markdown",
      "metadata": {
        "colab_type": "text",
        "id": "QQVo6vhPgO9x"
      },
      "source": [
        "# 3. Data Stack"
      ]
    },
    {
      "cell_type": "markdown",
      "metadata": {
        "colab_type": "text",
        "id": "65ite-671cTT"
      },
      "source": [
        "# 4. Defining New Layer Classes"
      ]
    },
    {
      "cell_type": "markdown",
      "metadata": {
        "colab_type": "text",
        "id": "hHSaD9H6hDTf"
      },
      "source": [
        "## Simpler layers, with the `Fn` layer-creating function."
      ]
    },
    {
      "cell_type": "markdown",
      "metadata": {
        "colab_type": "text",
        "id": "cqM6WJwNhoHI"
      },
      "source": [
        "## Full subclass definitions, where necessary"
      ]
    },
    {
      "cell_type": "markdown",
      "metadata": {
        "colab_type": "text",
        "id": "llAH3cdE1UeU"
      },
      "source": [
        "# 5. Models"
      ]
    }
  ],
  "metadata": {
    "colab": {
      "collapsed_sections": [],
      "last_runtime": {
        "build_target": "//learning/deepmind/dm_python:dm_notebook3",
        "kind": "private"
      },
      "name": "A Conceptual, Practical Introduction to Trax Layers",
      "provenance": [
        {
          "file_id": "1sF8QbqJ19ZU6oy5z4GUTt4lgUCjqO6kt",
          "timestamp": 1569980697572
        },
        {
          "file_id": "1EH76AWQ_pvT4i8ZXfkv-SCV4MrmllEl5",
          "timestamp": 1563927451951
        }
      ]
    },
    "kernelspec": {
      "display_name": "Python 3",
      "name": "python3"
    }
  },
  "nbformat": 4,
  "nbformat_minor": 0
}
